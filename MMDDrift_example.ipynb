{
  "nbformat": 4,
  "nbformat_minor": 0,
  "metadata": {
    "colab": {
      "name": "MMDDrift_example.ipynb",
      "provenance": [],
      "collapsed_sections": []
    },
    "kernelspec": {
      "name": "python3",
      "display_name": "Python 3"
    },
    "language_info": {
      "name": "python"
    }
  },
  "cells": [
    {
      "cell_type": "code",
      "source": [
        "!pip install alibi_detect -q"
      ],
      "metadata": {
        "id": "9KyN0BmZv_ex"
      },
      "execution_count": 18,
      "outputs": []
    },
    {
      "cell_type": "code",
      "execution_count": 19,
      "metadata": {
        "id": "mLgxfMF5v8MY"
      },
      "outputs": [],
      "source": [
        "import numpy as np\n",
        "from alibi_detect.cd import MMDDrift\n",
        "from alibi_detect.utils.saving import save_detector, load_detector\n",
        "import json"
      ]
    },
    {
      "cell_type": "code",
      "source": [
        "#@title Iris Reference Data\n",
        "iris_ref = np.array([\n",
        "[5.1, 3.5, 1.4, 0.2],\n",
        "[4.9, 3.0, 1.4, 0.2],\n",
        "[4.7, 3.2, 1.3, 0.2],\n",
        "[4.6, 3.1, 1.5, 0.2],\n",
        "[5.0, 3.6, 1.4, 0.2],\n",
        "[5.4, 3.9, 1.7, 0.4],\n",
        "[4.6, 3.4, 1.4, 0.3],\n",
        "[5.0, 3.4, 1.5, 0.2],\n",
        "[4.4, 2.9, 1.4, 0.2],\n",
        "[4.9, 3.1, 1.5, 0.1],\n",
        "[5.4, 3.7, 1.5, 0.2],\n",
        "[4.8, 3.4, 1.6, 0.2],\n",
        "[4.8, 3.0, 1.4, 0.1],\n",
        "[4.3, 3.0, 1.1, 0.1],\n",
        "[5.8, 4.0, 1.2, 0.2],\n",
        "[5.7, 4.4, 1.5, 0.4],\n",
        "[5.4, 3.9, 1.3, 0.4],\n",
        "[5.1, 3.5, 1.4, 0.3],\n",
        "[5.7, 3.8, 1.7, 0.3],\n",
        "[5.1, 3.8, 1.5, 0.3],\n",
        "[5.4, 3.4, 1.7, 0.2],\n",
        "[5.1, 3.7, 1.5, 0.4],\n",
        "[4.6, 3.6, 1.0, 0.2],\n",
        "[5.1, 3.3, 1.7, 0.5],\n",
        "[4.8, 3.4, 1.9, 0.2],\n",
        "[5.0, 3.0, 1.6, 0.2],\n",
        "[5.0, 3.4, 1.6, 0.4],\n",
        "[5.2, 3.5, 1.5, 0.2],\n",
        "[5.2, 3.4, 1.4, 0.2],\n",
        "[4.7, 3.2, 1.6, 0.2],\n",
        "[4.8, 3.1, 1.6, 0.2],\n",
        "[5.4, 3.4, 1.5, 0.4],\n",
        "[5.2, 4.1, 1.5, 0.1],\n",
        "[5.5, 4.2, 1.4, 0.2],\n",
        "[4.9, 3.1, 1.5, 0.1],\n",
        "[5.0, 3.2, 1.2, 0.2],\n",
        "[5.5, 3.5, 1.3, 0.2],\n",
        "[4.9, 3.1, 1.5, 0.1],\n",
        "[4.4, 3.0, 1.3, 0.2],\n",
        "[5.1, 3.4, 1.5, 0.2],\n",
        "[5.0, 3.5, 1.3, 0.3],\n",
        "[4.5, 2.3, 1.3, 0.3],\n",
        "[4.4, 3.2, 1.3, 0.2],\n",
        "[5.0, 3.5, 1.6, 0.6],\n",
        "[5.1, 3.8, 1.9, 0.4],\n",
        "[4.8, 3.0, 1.4, 0.3],\n",
        "[5.1, 3.8, 1.6, 0.2],\n",
        "[4.6, 3.2, 1.4, 0.2],\n",
        "[5.3, 3.7, 1.5, 0.2],\n",
        "[5.0, 3.3, 1.4, 0.2],\n",
        "[7.0, 3.2, 4.7, 1.4],\n",
        "[6.4, 3.2, 4.5, 1.5],\n",
        "[6.9, 3.1, 4.9, 1.5],\n",
        "[5.5, 2.3, 4.0, 1.3],\n",
        "[6.5, 2.8, 4.6, 1.5],\n",
        "[5.7, 2.8, 4.5, 1.3],\n",
        "[6.3, 3.3, 4.7, 1.6],\n",
        "[4.9, 2.4, 3.3, 1.0],\n",
        "[6.6, 2.9, 4.6, 1.3],\n",
        "[5.2, 2.7, 3.9, 1.4],\n",
        "[5.0, 2.0, 3.5, 1.0],\n",
        "[5.9, 3.0, 4.2, 1.5],\n",
        "[6.0, 2.2, 4.0, 1.0],\n",
        "[6.1, 2.9, 4.7, 1.4],\n",
        "[5.6, 2.9, 3.6, 1.3],\n",
        "[6.7, 3.1, 4.4, 1.4],\n",
        "[5.6, 3.0, 4.5, 1.5],\n",
        "[5.8, 2.7, 4.1, 1.0],\n",
        "[6.2, 2.2, 4.5, 1.5],\n",
        "[5.6, 2.5, 3.9, 1.1],\n",
        "[5.9, 3.2, 4.8, 1.8],\n",
        "[6.1, 2.8, 4.0, 1.3],\n",
        "[6.3, 2.5, 4.9, 1.5],\n",
        "[6.1, 2.8, 4.7, 1.2],\n",
        "[6.4, 2.9, 4.3, 1.3],\n",
        "[6.6, 3.0, 4.4, 1.4],\n",
        "[6.8, 2.8, 4.8, 1.4],\n",
        "[6.7, 3.0, 5.0, 1.7],\n",
        "[6.0, 2.9, 4.5, 1.5],\n",
        "[5.7, 2.6, 3.5, 1.0],\n",
        "[5.5, 2.4, 3.8, 1.1],\n",
        "[5.5, 2.4, 3.7, 1.0],\n",
        "[5.8, 2.7, 3.9, 1.2],\n",
        "[6.0, 2.7, 5.1, 1.6],\n",
        "[5.4, 3.0, 4.5, 1.5],\n",
        "[6.0, 3.4, 4.5, 1.6],\n",
        "[6.7, 3.1, 4.7, 1.5],\n",
        "[6.3, 2.3, 4.4, 1.3],\n",
        "[5.6, 3.0, 4.1, 1.3],\n",
        "[5.5, 2.5, 4.0, 1.3],\n",
        "[5.5, 2.6, 4.4, 1.2],\n",
        "[6.1, 3.0, 4.6, 1.4],\n",
        "[5.8, 2.6, 4.0, 1.2],\n",
        "[5.0, 2.3, 3.3, 1.0],\n",
        "[5.6, 2.7, 4.2, 1.3],\n",
        "[5.7, 3.0, 4.2, 1.2],\n",
        "[5.7, 2.9, 4.2, 1.3],\n",
        "[6.2, 2.9, 4.3, 1.3],\n",
        "[5.1, 2.5, 3.0, 1.1],\n",
        "[5.7, 2.8, 4.1, 1.3],\n",
        "[6.3, 3.3, 6.0, 2.5],\n",
        "[5.8, 2.7, 5.1, 1.9],\n",
        "[7.1, 3.0, 5.9, 2.1],\n",
        "[6.3, 2.9, 5.6, 1.8],\n",
        "[6.5, 3.0, 5.8, 2.2],\n",
        "[7.6, 3.0, 6.6, 2.1],\n",
        "[4.9, 2.5, 4.5, 1.7],\n",
        "[7.3, 2.9, 6.3, 1.8],\n",
        "[6.7, 2.5, 5.8, 1.8],\n",
        "[7.2, 3.6, 6.1, 2.5],\n",
        "[6.5, 3.2, 5.1, 2.0],\n",
        "[6.4, 2.7, 5.3, 1.9],\n",
        "[6.8, 3.0, 5.5, 2.1],\n",
        "[5.7, 2.5, 5.0, 2.0],\n",
        "[5.8, 2.8, 5.1, 2.4],\n",
        "[6.4, 3.2, 5.3, 2.3],\n",
        "[6.5, 3.0, 5.5, 1.8],\n",
        "[7.7, 3.8, 6.7, 2.2],\n",
        "[7.7, 2.6, 6.9, 2.3],\n",
        "[6.0, 2.2, 5.0, 1.5],\n",
        "[6.9, 3.2, 5.7, 2.3],\n",
        "[5.6, 2.8, 4.9, 2.0],\n",
        "[7.7, 2.8, 6.7, 2.0],\n",
        "[6.3, 2.7, 4.9, 1.8],\n",
        "[6.7, 3.3, 5.7, 2.1],\n",
        "[7.2, 3.2, 6.0, 1.8],\n",
        "[6.2, 2.8, 4.8, 1.8],\n",
        "[6.1, 3.0, 4.9, 1.8],\n",
        "[6.4, 2.8, 5.6, 2.1],\n",
        "[7.2, 3.0, 5.8, 1.6],\n",
        "[7.4, 2.8, 6.1, 1.9],\n",
        "[7.9, 3.8, 6.4, 2.0],\n",
        "[6.4, 2.8, 5.6, 2.2],\n",
        "[6.3, 2.8, 5.1, 1.5],\n",
        "[6.1, 2.6, 5.6, 1.4],\n",
        "[7.7, 3.0, 6.1, 2.3],\n",
        "[6.3, 3.4, 5.6, 2.4],\n",
        "[6.4, 3.1, 5.5, 1.8],\n",
        "[6.0, 3.0, 4.8, 1.8],\n",
        "[6.9, 3.1, 5.4, 2.1],\n",
        "[6.7, 3.1, 5.6, 2.4],\n",
        "[6.9, 3.1, 5.1, 2.3],\n",
        "[5.8, 2.7, 5.1, 1.9],\n",
        "[6.8, 3.2, 5.9, 2.3],\n",
        "[6.7, 3.3, 5.7, 2.5],\n",
        "[6.7, 3.0, 5.2, 2.3],\n",
        "[6.3, 2.5, 5.0, 1.9],\n",
        "[6.5, 3.0, 5.2, 2.0],\n",
        "[6.2, 3.4, 5.4, 2.3],\n",
        "[5.9, 3.0, 5.1, 1.8],\n",
        "   ])"
      ],
      "metadata": {
        "cellView": "form",
        "id": "QYKXe6UrYeUD"
      },
      "execution_count": 20,
      "outputs": []
    },
    {
      "cell_type": "code",
      "source": [
        "iris_cd = MMDDrift(iris_ref)"
      ],
      "metadata": {
        "id": "Sx1lKJcLYw5J"
      },
      "execution_count": 21,
      "outputs": []
    },
    {
      "cell_type": "code",
      "source": [
        "iris_cd.predict(iris_ref)"
      ],
      "metadata": {
        "colab": {
          "base_uri": "https://localhost:8080/"
        },
        "id": "nZcMq8KRY95s",
        "outputId": "4143d6c4-9bbf-4ec0-d141-5e11fc694460"
      },
      "execution_count": 22,
      "outputs": [
        {
          "output_type": "execute_result",
          "data": {
            "text/plain": [
              "{'data': {'distance': -0.0074648857,\n",
              "  'distance_threshold': 0.012700021,\n",
              "  'is_drift': 0,\n",
              "  'p_val': 1.0,\n",
              "  'threshold': 0.05},\n",
              " 'meta': {'backend': 'tensorflow',\n",
              "  'data_type': None,\n",
              "  'detector_type': 'offline',\n",
              "  'name': 'MMDDriftTF',\n",
              "  'version': '0.8.1'}}"
            ]
          },
          "metadata": {},
          "execution_count": 22
        }
      ]
    },
    {
      "cell_type": "code",
      "source": [
        "save_detector(iris_cd, 'iris')"
      ],
      "metadata": {
        "id": "toKdtAUwZPJV"
      },
      "execution_count": 23,
      "outputs": []
    },
    {
      "cell_type": "markdown",
      "source": [
        "## Scale the data to simulate drift."
      ],
      "metadata": {
        "id": "MAG9V-zGWO34"
      }
    },
    {
      "cell_type": "code",
      "source": [
        "iris_drifted = iris_ref * 0.01"
      ],
      "metadata": {
        "cellView": "code",
        "id": "rmuxHPpyE0NJ"
      },
      "execution_count": 24,
      "outputs": []
    },
    {
      "cell_type": "code",
      "source": [
        "save_detector(iris_cd, 'iris')\n",
        "cd_new = load_detector('iris')"
      ],
      "metadata": {
        "colab": {
          "base_uri": "https://localhost:8080/"
        },
        "id": "pMwdGKt13ql3",
        "outputId": "382bdd08-48ea-40a0-f0d1-832d06d2e4e5"
      },
      "execution_count": 25,
      "outputs": [
        {
          "output_type": "stream",
          "name": "stderr",
          "text": [
            "Directory iris/model does not exist.\n",
            "`sigma` is specified for the kernel and `configure_kernel_from_x_ref` is set to True. `sigma` argument takes priority over `configure_kernel_from_x_ref` (set to False).\n"
          ]
        }
      ]
    },
    {
      "cell_type": "code",
      "source": [
        "cd_new.predict(iris_drifted)"
      ],
      "metadata": {
        "colab": {
          "base_uri": "https://localhost:8080/"
        },
        "id": "QsOLmls8wYJJ",
        "outputId": "842575dc-28dc-4da8-c6b8-5cd9d4ae820a"
      },
      "execution_count": 26,
      "outputs": [
        {
          "output_type": "execute_result",
          "data": {
            "text/plain": [
              "{'data': {'distance': 1.4388129,\n",
              "  'distance_threshold': 0.024045527,\n",
              "  'is_drift': 1,\n",
              "  'p_val': 0.0,\n",
              "  'threshold': 0.05},\n",
              " 'meta': {'backend': 'tensorflow',\n",
              "  'data_type': None,\n",
              "  'detector_type': 'offline',\n",
              "  'name': 'MMDDriftTF',\n",
              "  'version': '0.8.1'}}"
            ]
          },
          "metadata": {},
          "execution_count": 26
        }
      ]
    },
    {
      "cell_type": "code",
      "source": [
        "!gsutil cp -r iris gs://seldon-koz-uploads"
      ],
      "metadata": {
        "colab": {
          "base_uri": "https://localhost:8080/"
        },
        "id": "0jnugUSFZcHK",
        "outputId": "e917b534-a6e7-4510-c52c-dd3c38593988"
      },
      "execution_count": 27,
      "outputs": [
        {
          "output_type": "stream",
          "name": "stdout",
          "text": [
            "Copying file://iris/meta.dill [Content-Type=application/octet-stream]...\n",
            "/ [0 files][    0.0 B/  144.0 B]                                                \rServiceException: 401 Anonymous caller does not have storage.objects.delete access to the Google Cloud Storage object.\n"
          ]
        }
      ]
    }
  ]
}